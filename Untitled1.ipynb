{
  "nbformat": 4,
  "nbformat_minor": 0,
  "metadata": {
    "colab": {
      "provenance": []
    },
    "kernelspec": {
      "name": "python3",
      "display_name": "Python 3"
    },
    "language_info": {
      "name": "python"
    }
  },
  "cells": [
    {
      "cell_type": "code",
      "execution_count": 1,
      "metadata": {
        "colab": {
          "base_uri": "https://localhost:8080/"
        },
        "id": "NaJpZ-g4kKu7",
        "outputId": "2ff3b1d8-f2d1-4752-891d-9c576d0d967a"
      },
      "outputs": [
        {
          "output_type": "stream",
          "name": "stdout",
          "text": [
            "[0 0 0 1]\n"
          ]
        }
      ],
      "source": [
        "import numpy as np\n",
        "x=np.asarray([[0,0],[0,1],[1,0],[1,1]])\n",
        "y=np.asarray([0,0,0,1])\n",
        "y_pred=np.asarray([0,0,0,0])\n",
        "w=np.asarray([1,1])\n",
        "def step(nw):\n",
        "  if (nw>=1.5):\n",
        "    return 1\n",
        "  else:\n",
        "    return 0\n",
        "for i in range(x.shape[0]):\n",
        "  n=x[i]\n",
        "  nw=np.dot(n,w)\n",
        "  y_pred[i]=step(nw)\n",
        "print(y_pred)"
      ]
    },
    {
      "cell_type": "code",
      "source": [
        "import numpy as np\n",
        "x=np.asarray([[0,0],[0,1],[1,0],[1,1]])\n",
        "y=np.asarray([0,1,1,1])\n",
        "y_pred=np.asarray([0,0,0,0])\n",
        "w=np.asarray([1,1])\n",
        "def step(nw):\n",
        "  if (nw>=1):\n",
        "    return 1\n",
        "  else:\n",
        "    return 0\n",
        "for i in range(x.shape[0]):\n",
        "  n=x[i]\n",
        "  nw=np.dot(n,w)\n",
        "  y_pred[i]=step(nw)\n",
        "print(y_pred)"
      ],
      "metadata": {
        "colab": {
          "base_uri": "https://localhost:8080/"
        },
        "id": "hhL4pE-Pm6Od",
        "outputId": "e4d499d3-a8ed-4f31-aa95-754879d4d1e8"
      },
      "execution_count": 3,
      "outputs": [
        {
          "output_type": "stream",
          "name": "stdout",
          "text": [
            "[0 1 1 1]\n"
          ]
        }
      ]
    },
    {
      "cell_type": "code",
      "source": [
        "import numpy as np\n",
        "from sklearn.linear_model import Perceptron\n",
        "import matplotlib.pyplot as plt\n",
        "\n",
        "X = np.array([[0,0],[0,1],[1,0],[1,1]])\n",
        "Y = np.asarray([0,0,0,1])\n",
        "h = .02\n",
        "\n",
        "clf = Perceptron().fit(X,Y)\n",
        "\n",
        "x_min, x_max = X[:, 0].min() - 1, X[:,0].max() + 1\n",
        "y_min, y_max = X[:, 1].min() - 1, X[:,1].max() + 1\n",
        "xx, yy = np.meshgrid(np.arange(x_min, x_max, h),\n",
        "                     np.arange(y_min, y_max, h))\n",
        "\n",
        "fig, ax = plt.subplots()\n",
        "Z = clf.predict(np.c_[xx.ravel(), yy.ravel()])\n",
        "\n",
        "Z = Z.reshape(xx.shape)\n",
        "ax.contourf(xx, yy, Z, cmap=plt.cm.gist_earth)\n",
        "ax.axis('off')\n",
        "\n",
        "ax.scatter(X[:, 0], X[:, 1], c=Y, cmap=plt.cm.gist_earth)\n",
        "\n",
        "ax.set_title('perceptron')\n"
      ],
      "metadata": {
        "colab": {
          "base_uri": "https://localhost:8080/",
          "height": 445
        },
        "id": "fUUWUPcvp49M",
        "outputId": "d34f82a6-56a0-439d-c5ff-1152d69e50f0"
      },
      "execution_count": 4,
      "outputs": [
        {
          "output_type": "execute_result",
          "data": {
            "text/plain": [
              "Text(0.5, 1.0, 'perceptron')"
            ]
          },
          "metadata": {},
          "execution_count": 4
        },
        {
          "output_type": "display_data",
          "data": {
            "text/plain": [
              "<Figure size 640x480 with 1 Axes>"
            ],
            "image/png": "[encoded data removed]"
          },
          "metadata": {}
        }
      ]
    }
  ]
}